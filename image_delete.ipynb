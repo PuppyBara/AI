{
 "cells": [
  {
   "cell_type": "code",
   "execution_count": 1,
   "metadata": {},
   "outputs": [
    {
     "name": "stdout",
     "output_type": "stream",
     "text": [
      "Deleted: ./images/train\\KakaoTalk_20240623_160317576_03.jpg\n",
      "Deleted: ./images/train\\KakaoTalk_20240623_160317576_09.jpg\n",
      "Deleted: ./images/train\\KakaoTalk_20240623_160317576_14.jpg\n",
      "Deleted: ./images/train\\KakaoTalk_20240623_160317576_15.jpg\n",
      "Deleted: ./images/train\\KakaoTalk_20240623_160317576_29.jpg\n",
      "Deleted: ./images/train\\KakaoTalk_20240623_160322760_01.jpg\n",
      "Deleted: ./images/train\\KakaoTalk_20240623_160322760_03.jpg\n"
     ]
    }
   ],
   "source": [
    "import os\n",
    "\n",
    "def delete_images_without_labels(images_dir, labels_dir):\n",
    "    # labels 디렉토리에서 .txt 파일 이름 수집\n",
    "    label_files = {os.path.splitext(file)[0] for file in os.listdir(labels_dir) if file.endswith('.txt')}\n",
    "    \n",
    "    # images 디렉토리에서 .jpg 파일 탐색 및 삭제\n",
    "    for root, dirs, files in os.walk(images_dir):\n",
    "        for file in files:\n",
    "            if file.endswith('.jpg'):\n",
    "                file_name = os.path.splitext(file)[0]\n",
    "                if file_name not in label_files:\n",
    "                    file_path = os.path.join(root, file)\n",
    "                    try:\n",
    "                        os.remove(file_path)\n",
    "                        print(f\"Deleted: {file_path}\")\n",
    "                    except Exception as e:\n",
    "                        print(f\"Failed to delete {file_path}: {e}\")\n",
    "\n",
    "# 이미지와 레이블 디렉토리 경로\n",
    "images_directory = './images/train'\n",
    "labels_directory = './labels/train'\n",
    "\n",
    "# 삭제 실행\n",
    "delete_images_without_labels(images_directory, labels_directory)"
   ]
  },
  {
   "cell_type": "code",
   "execution_count": 7,
   "metadata": {},
   "outputs": [
    {
     "name": "stdout",
     "output_type": "stream",
     "text": [
      "b'<?xml version=\"1.0\" encoding=\"UTF-8\" standalone=\"yes\"?><ServiceResult><comMsgHeader><returnCode>00</returnCode><returnMessage>NORMAL_SERVICE</returnMessage><successYN>Y</successYN></comMsgHeader></ServiceResult>'\n"
     ]
    }
   ],
   "source": [
    "# Python3 샘플 코드 #\n",
    "\n",
    "\n",
    "import requests\n",
    "\n",
    "url = 'http://apis.data.go.kr/6300000/animalDaejeonService/animalDaejeonItem'\n",
    "params ={'serviceKey' : 'hnX8ULUFOzFaXy68fIvCP3XffIXx4Fa7tjktesXzTkamIzDAE1uAqa6EoprhSfxSjJK/s+rxuxHSpM1bGHGKHg==', 'animalSeq' : '163423' }\n",
    "\n",
    "response = requests.get(url, params=params)\n",
    "print(response.content)"
   ]
  }
 ],
 "metadata": {
  "kernelspec": {
   "display_name": "base",
   "language": "python",
   "name": "python3"
  },
  "language_info": {
   "codemirror_mode": {
    "name": "ipython",
    "version": 3
   },
   "file_extension": ".py",
   "mimetype": "text/x-python",
   "name": "python",
   "nbconvert_exporter": "python",
   "pygments_lexer": "ipython3",
   "version": "3.11.5"
  }
 },
 "nbformat": 4,
 "nbformat_minor": 2
}
